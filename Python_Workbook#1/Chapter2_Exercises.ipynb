{
  "cells": [
    {
      "cell_type": "markdown",
      "metadata": {
        "id": "tKVRCM9G4lPI"
      },
      "source": [
        "# EXERCISE 1"
      ]
    },
    {
      "cell_type": "markdown",
      "source": [
        "Write a program that uses input to prompt a user for their name and then welcomes them.\n",
        "```\n",
        "Enter your name: Chuck\n",
        "Hello Chuck\n",
        "```"
      ],
      "metadata": {
        "id": "Y-2MnTVcza-5"
      }
    },
    {
      "cell_type": "code",
      "execution_count": null,
      "metadata": {
        "colab": {
          "base_uri": "https://localhost:8080/"
        },
        "id": "nBJmEaje350e",
        "outputId": "8efb4174-029c-4ede-b172-f74ca764313c"
      },
      "outputs": [
        {
          "output_type": "stream",
          "name": "stdout",
          "text": [
            "Enter your name: Chuck\n",
            "Hello Chuck\n"
          ]
        }
      ],
      "source": [
        "#Answer\n",
        "\n",
        "name = input(\"Enter your name: \")\n",
        "print(f\"Hello {name}\")"
      ]
    },
    {
      "cell_type": "markdown",
      "source": [
        "# EXERCISE 2"
      ],
      "metadata": {
        "id": "78iO10-hzN_h"
      }
    },
    {
      "cell_type": "markdown",
      "source": [
        "Write a program to prompt the user for hours and rate per hour to compute gross pay.\n",
        "```\n",
        "Enter Hours: 35\n",
        "Enter Rate: 2.75\n",
        "Pay: 96.25\n",
        "```"
      ],
      "metadata": {
        "id": "GW8svGmOzSUJ"
      }
    },
    {
      "cell_type": "code",
      "source": [
        "#Answer\n",
        "\n",
        "h = float(input(\"Enter Hours: \"))\n",
        "r = float(input(\"Enter Rate: \"))\n",
        "\n",
        "grossPay = h * r\n",
        "\n",
        "print(f\"Pay: {grossPay}\")"
      ],
      "metadata": {
        "colab": {
          "base_uri": "https://localhost:8080/"
        },
        "id": "KB_jvFtszWXY",
        "outputId": "1e870622-f9a5-4144-b1c1-c2f41e558396"
      },
      "execution_count": null,
      "outputs": [
        {
          "output_type": "stream",
          "name": "stdout",
          "text": [
            "Enter Hours: 35\n",
            "Enter Rate: 2.75\n",
            "Pay: 96.25\n"
          ]
        }
      ]
    },
    {
      "cell_type": "markdown",
      "metadata": {
        "id": "e28eUK1UpILM"
      },
      "source": [
        "# EXERCISE 3"
      ]
    },
    {
      "cell_type": "markdown",
      "source": [
        "Assume that we execute the following assignment statements:\n",
        "```python\n",
        "width = 17\n",
        "height = 12.0\n",
        "```\n",
        "For each of the following expressions, write the value of the expression and the type (of the value of the expression).\n",
        "```python\n",
        "width//2\n",
        "width/2.0\n",
        "height/3\n",
        "1 + 2 * 5\n",
        "```"
      ],
      "metadata": {
        "id": "mam6JPc70Rl5"
      }
    },
    {
      "cell_type": "code",
      "execution_count": null,
      "metadata": {
        "colab": {
          "base_uri": "https://localhost:8080/"
        },
        "id": "IV3-XWcB6KLc",
        "outputId": "051c784a-4985-4231-e492-64a697029106"
      },
      "outputs": [
        {
          "output_type": "stream",
          "name": "stdout",
          "text": [
            "The value is 8 and data type is <class 'int'>\n",
            "The value is 8.5 and data type is <class 'float'>\n",
            "The value is 4.0 and data type is <class 'float'>\n",
            "The value is 11 and data type is <class 'int'>\n"
          ]
        }
      ],
      "source": [
        "#Answer\n",
        "\n",
        "width = 17\n",
        "height = 12.0\n",
        "\n",
        "x1 = width//2\n",
        "x2 = width/2.0\n",
        "x3 = height/3\n",
        "x4 = 1 + 2 * 5\n",
        "\n",
        "print(f\"The value is {x1} and data type is {type(x1)}\")\n",
        "print(f\"The value is {x2} and data type is {type(x2)}\")\n",
        "print(f\"The value is {x3} and data type is {type(x3)}\")\n",
        "print(f\"The value is {x4} and data type is {type(x4)}\")\n",
        "\n"
      ]
    },
    {
      "cell_type": "markdown",
      "metadata": {
        "id": "5UvBsfds7c5a"
      },
      "source": [
        "# Exercise 4\n",
        "\n"
      ]
    },
    {
      "cell_type": "markdown",
      "source": [
        "Write a program that uses input to prompt a user for a number and then outputs the square of the number\n",
        "```\n",
        "Enter a number: 3\n",
        "The square of 3 is 9\n",
        "```"
      ],
      "metadata": {
        "id": "AvlLjAJuy0U5"
      }
    },
    {
      "cell_type": "code",
      "execution_count": null,
      "metadata": {
        "colab": {
          "base_uri": "https://localhost:8080/"
        },
        "id": "VCs9CDPo7XzS",
        "outputId": "3ad8aa21-c8d5-4d0a-dd65-ede4d170215d"
      },
      "outputs": [
        {
          "output_type": "stream",
          "name": "stdout",
          "text": [
            "Enter a number: 3\n",
            "The square of 3 is 9\n"
          ]
        }
      ],
      "source": [
        "#Answer\n",
        "\n",
        "num = int(input(\"Enter a number: \"))\n",
        "squared = num * num\n",
        "print(f\"The square of {num} is {squared}\")"
      ]
    },
    {
      "cell_type": "markdown",
      "metadata": {
        "id": "nj58d5MfK0wU"
      },
      "source": [
        "# CHALLENGE\n",
        "\n"
      ]
    },
    {
      "cell_type": "markdown",
      "source": [
        "Write a program which prompts the user for a Celsius temperature, convert the temperature to Fahrenheit, and print out the converted temperature."
      ],
      "metadata": {
        "id": "5b_r985my4fw"
      }
    },
    {
      "cell_type": "code",
      "execution_count": null,
      "metadata": {
        "colab": {
          "base_uri": "https://localhost:8080/"
        },
        "id": "9s3qQdgAK1iJ",
        "outputId": "8a9b978c-eba0-4430-e5f3-e4fc3b001458"
      },
      "outputs": [
        {
          "name": "stdout",
          "output_type": "stream",
          "text": [
            "Enter celsius5\n",
            "5.0 celsius is 41.0 fahrenheit\n"
          ]
        }
      ],
      "source": [
        "celsius = float(input(\"Enter celsius: \"))\n",
        "fahrenheit = celsius * 1.8 + 32\n",
        "print(f\"{celsius} celsius is {fahrenheit} fahrenheit\")"
      ]
    }
  ],
  "metadata": {
    "accelerator": "GPU",
    "colab": {
      "gpuType": "T4",
      "provenance": []
    },
    "kernelspec": {
      "display_name": "Python 3",
      "name": "python3"
    },
    "language_info": {
      "name": "python"
    }
  },
  "nbformat": 4,
  "nbformat_minor": 0
}