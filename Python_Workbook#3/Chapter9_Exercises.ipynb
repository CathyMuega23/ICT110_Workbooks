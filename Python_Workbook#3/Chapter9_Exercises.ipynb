{
 "cells": [
  {
   "cell_type": "markdown",
   "metadata": {},
   "source": [
    "# EXERCISES"
   ]
  },
  {
   "cell_type": "markdown",
   "metadata": {},
   "source": [
    "## Exercise 1\n",
    "\n",
    "Create a dictionary with the following keys and values showing a partial list of Real GDP growth in Annual percent change from IMF (Source: http://www.imf.org/external/datamapper/NGDP_RPCH@WEO/OEMDC/ADVEC/WEOWORLD)\n",
    "\n",
    "    China 6.5\n",
    "    Japan 0.7\n",
    "    Philippines 6.7\n",
    "    United States 2.3\n",
    "    "
   ]
  },
  {
   "cell_type": "code",
   "execution_count": 13,
   "metadata": {},
   "outputs": [],
   "source": [
    "GDPGrowth = {}\n",
    "GDPGrowth['China'] = 6.5\n",
    "GDPGrowth['Japan'] = 0.7\n",
    "GDPGrowth['Philippines'] = 6.7\n",
    "GDPGrowth['United States'] = 2.3\n",
    "#print(GDPGrowth)// remove hashtag if you want to check if my code is correct\n"
   ]
  },
  {
   "cell_type": "markdown",
   "metadata": {},
   "source": [
    "## Exercise 2\n",
    "\n",
    "Display all the keys and values from the dictionary you created above"
   ]
  },
  {
   "cell_type": "code",
   "execution_count": 14,
   "metadata": {},
   "outputs": [
    {
     "name": "stdout",
     "output_type": "stream",
     "text": [
      "dict_keys(['China', 'Japan', 'Philippines', 'United States'])\n",
      "dict_values([6.5, 0.7, 6.7, 2.3])\n",
      "{'China': 6.5, 'Japan': 0.7, 'Philippines': 6.7, 'United States': 2.3}\n"
     ]
    }
   ],
   "source": [
    "GDPGrowth = {}\n",
    "GDPGrowth['China'] = 6.5\n",
    "GDPGrowth['Japan'] = 0.7\n",
    "GDPGrowth['Philippines'] = 6.7\n",
    "GDPGrowth['United States'] = 2.3\n",
    "print(GDPGrowth.keys())\n",
    "print(GDPGrowth.values())\n",
    "print(GDPGrowth)"
   ]
  },
  {
   "cell_type": "markdown",
   "metadata": {},
   "source": [
    "## Exercise 3\n",
    "\n",
    "Write a program that asks the user to enter a line of text and then counts the number of each word that appeared in the line of text.\n",
    "Use the string function `split()` to make a list of words from a given string\n",
    "e.g.:\n",
    "\n",
    "word_list = line.split()\n",
    "\n",
    "will return a list of words from the string `line` and store it in the variable `word_list`."
   ]
  },
  {
   "cell_type": "code",
   "execution_count": 15,
   "metadata": {},
   "outputs": [
    {
     "name": "stdout",
     "output_type": "stream",
     "text": [
      "['hello', 'world']\n",
      "Number of words: 2\n"
     ]
    }
   ],
   "source": [
    "wordCount = []\n",
    "text =input(\"Enter line of text: \")\n",
    "wordCount = text.split()\n",
    "print(wordCount)\n",
    "print(f\"Number of words: {len(wordCount)}\")"
   ]
  }
 ],
 "metadata": {
  "kernelspec": {
   "display_name": "Python 3",
   "language": "python",
   "name": "python3"
  },
  "language_info": {
   "codemirror_mode": {
    "name": "ipython",
    "version": 3
   },
   "file_extension": ".py",
   "mimetype": "text/x-python",
   "name": "python",
   "nbconvert_exporter": "python",
   "pygments_lexer": "ipython3",
   "version": "3.12.2"
  }
 },
 "nbformat": 4,
 "nbformat_minor": 2
}
