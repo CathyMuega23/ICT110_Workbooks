{
 "cells": [
  {
   "cell_type": "markdown",
   "metadata": {},
   "source": [
    "# EXERCISES"
   ]
  },
  {
   "cell_type": "markdown",
   "metadata": {},
   "source": [
    "## ExERCISE 1\n",
    "\n",
    "Write a program to read through a file and print the contents of the file (line by line) all in upper case."
   ]
  },
  {
   "cell_type": "code",
   "execution_count": 21,
   "metadata": {},
   "outputs": [
    {
     "name": "stdout",
     "output_type": "stream",
     "text": [
      "THIS IS CHAPTER 7 EXERCISE 1 TXT\n",
      "THANKS\n",
      "THIS IS NOT THE FILE\n",
      "THIS IS AN EXAMPLE ONLY\n"
     ]
    }
   ],
   "source": [
    "file = open(\"sample.txt\", \"r\")\n",
    "print(file.read().upper())\n"
   ]
  },
  {
   "cell_type": "markdown",
   "metadata": {},
   "source": [
    "## EXERCISE 2\n",
    "\n",
    "Write a program to read through a file and output the number of lines in a file."
   ]
  },
  {
   "cell_type": "code",
   "execution_count": 20,
   "metadata": {},
   "outputs": [
    {
     "name": "stdout",
     "output_type": "stream",
     "text": [
      "4\n"
     ]
    }
   ],
   "source": [
    "f = open(\"sample.txt\")\n",
    "txt = f.read()\n",
    "print(len(txt.split('\\n')))"
   ]
  },
  {
   "cell_type": "markdown",
   "metadata": {},
   "source": [
    "## CHALLENGE\n",
    "\n",
    "Write a program to prompt for a file name, and then read through the file and look for lines of the form:\n",
    "\n",
    "When you encounter a line that starts with \"X-DSPAM-Confidence:\" pull apart the line to extract the floating-point number on the line. Count these lines and then compute the total of the spam confidence values from these lines. When you reach the end of the file, print out the average spam confidence.\n",
    "\n",
    "Enter the file name: mbox.txt\n",
    "Average spam confidence: 0.894128046745\n",
    "\n",
    "Enter the file name: mbox-short.txt\n",
    "Average spam confidence: 0.750718518519"
   ]
  },
  {
   "cell_type": "code",
   "execution_count": 1,
   "metadata": {},
   "outputs": [
    {
     "name": "stdout",
     "output_type": "stream",
     "text": [
      "Average spam confidence: 0.8941280467445736\n"
     ]
    }
   ],
   "source": [
    "fileName = input(\"Enter file name: \")\n",
    "spamConfiTotal = 0\n",
    "count = 0\n",
    "\n",
    "try:\n",
    "    file = open(fileName, \"r\")\n",
    "except:\n",
    "    print(\"File not found\")\n",
    "else:\n",
    "    for line in file:\n",
    "        if line.startswith(\"X-DSPAM-Confidence:\"):\n",
    "            x = line.replace(\"X-DSPAM-Confidence:\", \"\")\n",
    "            spamConfiTotal += float(x.strip())\n",
    "            count += 1\n",
    "    if(spamConfiTotal != 0):\n",
    "        print(f\"Average spam confidence: {spamConfiTotal/count}\")\n",
    "    else:\n",
    "        print(\"No average spam confidence found.\")\n",
    "\n"
   ]
  }
 ],
 "metadata": {
  "kernelspec": {
   "display_name": "Python 3",
   "language": "python",
   "name": "python3"
  },
  "language_info": {
   "codemirror_mode": {
    "name": "ipython",
    "version": 3
   },
   "file_extension": ".py",
   "mimetype": "text/x-python",
   "name": "python",
   "nbconvert_exporter": "python",
   "pygments_lexer": "ipython3",
   "version": "3.12.2"
  }
 },
 "nbformat": 4,
 "nbformat_minor": 2
}
