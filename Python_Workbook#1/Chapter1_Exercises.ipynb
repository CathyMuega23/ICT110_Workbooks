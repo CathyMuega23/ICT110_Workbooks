{
  "nbformat": 4,
  "nbformat_minor": 0,
  "metadata": {
    "colab": {
      "provenance": []
    },
    "kernelspec": {
      "name": "python3",
      "display_name": "Python 3"
    },
    "language_info": {
      "name": "python"
    }
  },
  "cells": [
    {
      "cell_type": "markdown",
      "source": [
        "# EXERCISE 1"
      ],
      "metadata": {
        "id": "qIz7D5xHw4xK"
      }
    },
    {
      "cell_type": "markdown",
      "source": [
        "##a\n",
        "\n"
      ],
      "metadata": {
        "id": "ECVEoLn3ltXb"
      }
    },
    {
      "cell_type": "markdown",
      "source": [
        "Each line of code below contains an error. Fix the error and explain in a comment the reason for the error."
      ],
      "metadata": {
        "id": "xpmI_nhoxzDI"
      }
    },
    {
      "cell_type": "code",
      "source": [
        "Print('Hello world!') #syntax print has a capital letter p."
      ],
      "metadata": {
        "colab": {
          "base_uri": "https://localhost:8080/",
          "height": 141
        },
        "id": "H9ks5feDh0oE",
        "outputId": "421c457f-cf50-4347-9c7a-123fa4361a82"
      },
      "execution_count": null,
      "outputs": [
        {
          "output_type": "error",
          "ename": "NameError",
          "evalue": "name 'Print' is not defined",
          "traceback": [
            "\u001b[0;31m---------------------------------------------------------------------------\u001b[0m",
            "\u001b[0;31mNameError\u001b[0m                                 Traceback (most recent call last)",
            "\u001b[0;32m<ipython-input-1-01ca657a9260>\u001b[0m in \u001b[0;36m<cell line: 1>\u001b[0;34m()\u001b[0m\n\u001b[0;32m----> 1\u001b[0;31m \u001b[0mPrint\u001b[0m\u001b[0;34m(\u001b[0m\u001b[0;34m'Hello world!'\u001b[0m\u001b[0;34m)\u001b[0m \u001b[0;31m#syntax print has a capital letter p.\u001b[0m\u001b[0;34m\u001b[0m\u001b[0;34m\u001b[0m\u001b[0m\n\u001b[0m",
            "\u001b[0;31mNameError\u001b[0m: name 'Print' is not defined"
          ]
        }
      ]
    },
    {
      "cell_type": "code",
      "execution_count": null,
      "metadata": {
        "id": "7Z0dnu2bwyV_"
      },
      "outputs": [],
      "source": [
        "#Correct syntax is print()\n",
        "\n",
        "print('Hello world!')"
      ]
    },
    {
      "cell_type": "markdown",
      "source": [
        "##b"
      ],
      "metadata": {
        "id": "3hytM52-i3WU"
      }
    },
    {
      "cell_type": "code",
      "source": [
        "print'Hello world!') #There is no open parenthesis"
      ],
      "metadata": {
        "id": "Ftr5y2Lci5uV"
      },
      "execution_count": null,
      "outputs": []
    },
    {
      "cell_type": "code",
      "source": [
        "#Correct syntax has open and close parentheses\n",
        "\n",
        "print('Hello world!')"
      ],
      "metadata": {
        "id": "yeW_QoL1yDTi"
      },
      "execution_count": null,
      "outputs": []
    },
    {
      "cell_type": "markdown",
      "source": [
        "##c\n",
        "\n"
      ],
      "metadata": {
        "id": "HDj-HIZyykHP"
      }
    },
    {
      "cell_type": "code",
      "source": [
        "print('Hello world!)\n",
        "#no closing qoutation"
      ],
      "metadata": {
        "id": "CP7ihVtOj2RX"
      },
      "execution_count": null,
      "outputs": []
    },
    {
      "cell_type": "code",
      "source": [
        "# Correct syntax for printing string should have open and close qoutation\n",
        "print('Hello world!')"
      ],
      "metadata": {
        "id": "zqivgGcUyraC"
      },
      "execution_count": null,
      "outputs": []
    },
    {
      "cell_type": "markdown",
      "source": [
        "##d"
      ],
      "metadata": {
        "id": "1Ced3x1lkofg"
      }
    },
    {
      "cell_type": "code",
      "source": [
        "print('Hello world!'')\n",
        "#there is doouble single qoutation in closing."
      ],
      "metadata": {
        "id": "6hmo_l2kklv4"
      },
      "execution_count": null,
      "outputs": []
    },
    {
      "cell_type": "code",
      "source": [
        "print('Hello world!') # Open and close qoutation should be the same. If you use double, then use close and open qoutation same if using single qoutation."
      ],
      "metadata": {
        "id": "5hTgJWGdzQgd"
      },
      "execution_count": null,
      "outputs": []
    },
    {
      "cell_type": "markdown",
      "source": [
        "# EXERCISE 2\n",
        "\n"
      ],
      "metadata": {
        "id": "qQ9lHkpbzxMX"
      }
    },
    {
      "cell_type": "markdown",
      "source": [
        "What is the output of the code below?"
      ],
      "metadata": {
        "id": "yuqnN0x9x2xC"
      }
    },
    {
      "cell_type": "code",
      "source": [
        "x = 43\n",
        "x = x + 1\n",
        "print(x)\n",
        "\n",
        "#since x has been initialized as 43 then x is 43. x is added to 1, then 44 is the output/answer"
      ],
      "metadata": {
        "id": "E7nu-zn4l9yJ"
      },
      "execution_count": null,
      "outputs": []
    },
    {
      "cell_type": "markdown",
      "source": [
        "# EXERCISE 3\n",
        "\n",
        "\n",
        "\n"
      ],
      "metadata": {
        "id": "-AdhPUzT1zop"
      }
    },
    {
      "cell_type": "markdown",
      "source": [
        "The code below contains an error. Fix the error and explain in a comment the reason for the error."
      ],
      "metadata": {
        "id": "miZSIKSix6tI"
      }
    },
    {
      "cell_type": "code",
      "source": [
        "x = 43\n",
        "x = X + 1\n",
        "print(x)\n",
        "# The error is from variable 'X'. Variables are case-sensitive, which makes 'x' different from 'X'."
      ],
      "metadata": {
        "colab": {
          "base_uri": "https://localhost:8080/"
        },
        "id": "t5_98SZS1-ih",
        "outputId": "2ba34db9-1a8c-4187-ba44-b729deb7498d"
      },
      "execution_count": null,
      "outputs": [
        {
          "output_type": "stream",
          "name": "stdout",
          "text": [
            "44\n"
          ]
        }
      ]
    },
    {
      "cell_type": "code",
      "source": [
        "#Correct format\n",
        "\n",
        "x = 43\n",
        "x = x + 1\n",
        "print(x)"
      ],
      "metadata": {
        "id": "DygJqKAzm1o_"
      },
      "execution_count": null,
      "outputs": []
    }
  ]
}