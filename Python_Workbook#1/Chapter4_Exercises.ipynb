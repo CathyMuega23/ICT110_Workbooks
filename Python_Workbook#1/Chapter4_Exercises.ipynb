{
  "nbformat": 4,
  "nbformat_minor": 0,
  "metadata": {
    "colab": {
      "provenance": []
    },
    "kernelspec": {
      "name": "python3",
      "display_name": "Python 3"
    },
    "language_info": {
      "name": "python"
    }
  },
  "cells": [
    {
      "cell_type": "markdown",
      "source": [
        "# EXERCISE 1"
      ],
      "metadata": {
        "id": "6ihhXoeBrES_"
      }
    },
    {
      "cell_type": "markdown",
      "source": [
        "Rewrite your pay computation with time-and-a-half for overtime and create a function called compute pay which takes two parameters (hours and rate).\n",
        "\n",
        "    Enter Hours: 45\n",
        "    Enter Rate: 10\n",
        "    Pay: 475.0"
      ],
      "metadata": {
        "id": "zCQFld-ZrKvO"
      }
    },
    {
      "cell_type": "code",
      "execution_count": null,
      "metadata": {
        "id": "orLAgc24qwxe",
        "colab": {
          "base_uri": "https://localhost:8080/"
        },
        "outputId": "2fb90199-416b-4159-afcd-0bb73f321e99"
      },
      "outputs": [
        {
          "output_type": "stream",
          "name": "stdout",
          "text": [
            "Enter Hours: 45\n",
            "Enter Rate: 10\n",
            "Pay: 475.0\n"
          ]
        }
      ],
      "source": [
        "#Answer\n",
        "\n",
        "def computePay(hours, rate):\n",
        "  if hours <= 40:\n",
        "    pay = hours * rate\n",
        "  elif hours > 40:\n",
        "    regRate = 40 * rate\n",
        "    otHours = hours - 40\n",
        "    otRate = (otHours * rate) * 1.5\n",
        "    pay = regRate + otRate\n",
        "  return pay\n",
        "\n",
        "hours = float(input(\"Enter Hours: \"))\n",
        "rate = float(input(\"Enter Rate: \"))\n",
        "print(f\"Pay: {computePay(hours, rate)}\")"
      ]
    },
    {
      "cell_type": "markdown",
      "source": [
        "# CHALLENGE"
      ],
      "metadata": {
        "id": "l3_PS7iivFVP"
      }
    },
    {
      "cell_type": "markdown",
      "source": [
        "Write a function called computegrade that takes a score as its parameter and returns a grade as a string using the following table:\n",
        "\n",
        "    Score           Grade\n",
        "    [ 97, 100]      1.0\n",
        "    [ 93,  97)\t\t1.25\n",
        "    [ 89,  93)\t\t1.5\n",
        "    [ 85,  89)\t\t1.75\n",
        "    [ 81,  85)\t\t2.0\n",
        "    [ 77,  81)\t\t2.25\n",
        "    [ 74,  77)\t\t2.5\n",
        "    [ 0,   74)\t\t3.0\n",
        "\n",
        "    Run the program repeatedly to test the various different values for input."
      ],
      "metadata": {
        "id": "ZikJbLEyvJIF"
      }
    },
    {
      "cell_type": "code",
      "source": [
        "#Answer\n",
        "\n",
        "def computeGrade(score):\n",
        "  if(score >= 0 and score <= 74):\n",
        "    return 3.0\n",
        "  elif(score >= 75 and score <= 77):\n",
        "    return 2.5\n",
        "  elif(score >= 78 and score <= 81):\n",
        "    return 2.25\n",
        "  elif(score >= 82 and score <= 85):\n",
        "    return 2.0\n",
        "  elif(score >= 86 and score <= 89):\n",
        "    return 1.75\n",
        "  elif(score >= 90 and score <= 93):\n",
        "    return 1.5\n",
        "  elif(score >= 94 and score <= 97):\n",
        "    return 1.25\n",
        "  elif(score >= 98 and score <= 100):\n",
        "    return 1.0\n",
        "\n",
        "score = int(input(\"Enter Score: \"))\n",
        "print(f\"Grade is: {computeGrade(score)}\")"
      ],
      "metadata": {
        "id": "bqVWvoIGvMs9",
        "colab": {
          "base_uri": "https://localhost:8080/"
        },
        "outputId": "d33f8cce-8ef1-4a8b-e1cc-d5229306303d"
      },
      "execution_count": null,
      "outputs": [
        {
          "output_type": "stream",
          "name": "stdout",
          "text": [
            "Enter Score: 60\n",
            "Grade is: 3.0\n"
          ]
        }
      ]
    }
  ]
}