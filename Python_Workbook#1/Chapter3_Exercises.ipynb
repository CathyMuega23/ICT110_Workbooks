{
  "nbformat": 4,
  "nbformat_minor": 0,
  "metadata": {
    "colab": {
      "provenance": [],
      "gpuType": "T4"
    },
    "kernelspec": {
      "name": "python3",
      "display_name": "Python 3"
    },
    "language_info": {
      "name": "python"
    },
    "accelerator": "GPU"
  },
  "cells": [
    {
      "cell_type": "markdown",
      "source": [
        "# EXERCISE 1\n",
        "\n"
      ],
      "metadata": {
        "id": "vJIOjgw9qzyh"
      }
    },
    {
      "cell_type": "markdown",
      "source": [
        "In the code below, which will never print regardless of the value for x? Edit the code to correct the error.\n",
        "\n",
        "```python\n",
        "if x > 0 :\n",
        "    print('Above 0')\n",
        "elif x >  10 :\n",
        "    print('Above 10')\n",
        "elif x > 50 :\n",
        "    print('Above 50')\n",
        "elif x >  20 :\n",
        "    print('Above 20')\n",
        "else :\n",
        "    print('Something else')\n",
        "```\n",
        "*ANSWER:*\n",
        "*All if else condition will not be executed everytime the user will enter a value of x, except the first conditional statement. It is because the first condition will be satisfied continously since python reads the code in order.*"
      ],
      "metadata": {
        "id": "0ib-uAKK1r2R"
      }
    },
    {
      "cell_type": "code",
      "execution_count": 12,
      "metadata": {
        "colab": {
          "base_uri": "https://localhost:8080/"
        },
        "id": "gnT5p0GeqktC",
        "outputId": "b18913c2-7049-4596-8d0e-94c83142451f"
      },
      "outputs": [
        {
          "output_type": "stream",
          "name": "stdout",
          "text": [
            "Enter a number: 0\n",
            "Something else\n"
          ]
        }
      ],
      "source": [
        "#Revised code for EXERCISE 1\n",
        "\n",
        "x = int(input(\"Enter a number: \"))\n",
        "\n",
        "if x > 50:\n",
        "  print('Above 50')\n",
        "elif x > 20 and x <= 50:\n",
        "    print('Above 20')\n",
        "elif x > 10 and x <= 20:\n",
        "    print('Above 10')\n",
        "elif x > 0 and x <= 10:\n",
        "    print('Above 0')\n",
        "else:\n",
        "    print('Something else')"
      ]
    },
    {
      "cell_type": "markdown",
      "source": [
        "# EXERCISE 2\n"
      ],
      "metadata": {
        "id": "FBmO8dnAsBXp"
      }
    },
    {
      "cell_type": "markdown",
      "source": [
        "Write your salary computation to give an employee 1.5 times the hourly rate for hours worked above 40 hours. Example:\n",
        "\n",
        "    Enter Hours: 45\n",
        "    Enter Rate: 10\n",
        "    Pay: 475.0"
      ],
      "metadata": {
        "id": "ukfCi2741nwY"
      }
    },
    {
      "cell_type": "code",
      "source": [
        "#Answer for EXERCISE 2\n",
        "\n",
        "hours = float(input(\"Enter Hours: \"))\n",
        "rate = float(input(\"Enter Rate: \"))\n",
        "\n",
        "if hours <= 40:\n",
        "  pay = hours * rate\n",
        "elif hours > 40:\n",
        "  regRate = 40 * rate\n",
        "  otHours = hours - 40\n",
        "  otRate = (otHours * rate) * 1.5\n",
        "  pay = regRate + otRate\n",
        "print(f\"Pay: {pay}\")"
      ],
      "metadata": {
        "colab": {
          "base_uri": "https://localhost:8080/"
        },
        "id": "WrKkHm6LqxlZ",
        "outputId": "20b6c2df-e850-4f8a-e45c-17c7e606615c"
      },
      "execution_count": null,
      "outputs": [
        {
          "output_type": "stream",
          "name": "stdout",
          "text": [
            "Enter Hours: 45\n",
            "Enter Rate: 10.\n",
            "Pay: 475.0\n"
          ]
        }
      ]
    },
    {
      "cell_type": "markdown",
      "source": [
        "# CHALLENGE\n"
      ],
      "metadata": {
        "id": "SlgwhuC6g2On"
      }
    },
    {
      "cell_type": "markdown",
      "source": [
        "Write a program to prompt for a score between 0 and 100 and print a grade using the following table:\n",
        "\n",
        "    Score           Grade\n",
        "    [ 97, 100]      1.0\n",
        "    [ 93,  97)\t\t1.25\n",
        "    [ 89,  93)\t\t1.5\n",
        "    [ 85,  89)\t\t1.75\n",
        "    [ 81,  85)\t\t2.0\n",
        "    [ 77,  81)\t\t2.25\n",
        "    [ 74,  77)\t\t2.5\n",
        "    [ 0,   74)\t\t3.0"
      ],
      "metadata": {
        "id": "uO4OWqdN1j0p"
      }
    },
    {
      "cell_type": "code",
      "source": [
        "# Answer for the CHALLENGE\n",
        "\n",
        "score = int(input(\"Enter a Score: \"))\n",
        "if(score >= 0 and score <= 74):\n",
        "  print(\"Grade is 3.0\")\n",
        "elif(score >= 75 and score <= 77):\n",
        "  print(\"Grade is 2.5\")\n",
        "elif(score >= 78 and score <= 81):\n",
        "  print(\"Grade is 2.25\")\n",
        "elif(score >= 82 and score <= 85):\n",
        "  print(\"Grade is 2.0\")\n",
        "elif(score >= 86 and score <= 89):\n",
        "  print(\"Grade is 1.75\")\n",
        "elif(score >= 90 and score <= 93):\n",
        "  print(\"Grade is 1.5\")\n",
        "elif(score >= 94 and score <= 97):\n",
        "  print(\"Grade is 1.25\")\n",
        "elif(score >= 98 and score <= 100):\n",
        "  print(\"Grade is 1.0\")\n",
        "else:\n",
        "  print(\"You enter a wrong score.\")"
      ],
      "metadata": {
        "id": "Njcmsnqdg_Cr",
        "colab": {
          "base_uri": "https://localhost:8080/"
        },
        "outputId": "10ee197d-f127-4ffc-a043-fff7998fb996"
      },
      "execution_count": null,
      "outputs": [
        {
          "output_type": "stream",
          "name": "stdout",
          "text": [
            "Enter a Score: -1\n",
            "You enter a wrong score.\n"
          ]
        }
      ]
    },
    {
      "cell_type": "markdown",
      "source": [
        "111"
      ],
      "metadata": {
        "id": "QL4myjbrsAZr"
      }
    }
  ]
}