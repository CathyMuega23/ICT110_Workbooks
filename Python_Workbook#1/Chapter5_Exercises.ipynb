{
  "nbformat": 4,
  "nbformat_minor": 0,
  "metadata": {
    "colab": {
      "provenance": []
    },
    "kernelspec": {
      "name": "python3",
      "display_name": "Python 3"
    },
    "language_info": {
      "name": "python"
    }
  },
  "cells": [
    {
      "cell_type": "markdown",
      "source": [
        "# EXERCISE 1"
      ],
      "metadata": {
        "id": "9J3oWpucf07U"
      }
    },
    {
      "cell_type": "markdown",
      "source": [
        "Investigate on the difference between `is` and `==` given the following variables.\n",
        "```python\n",
        "a = 2\n",
        "b = 2.0\n",
        "c = a\n",
        "```"
      ],
      "metadata": {
        "id": "izDKYVw49AIS"
      }
    },
    {
      "cell_type": "code",
      "execution_count": null,
      "metadata": {
        "colab": {
          "base_uri": "https://localhost:8080/"
        },
        "id": "uK2M6gNk8opq",
        "outputId": "bfae02c4-1e61-474e-96da-5df081884d68"
      },
      "outputs": [
        {
          "output_type": "stream",
          "name": "stdout",
          "text": [
            "False\n",
            "True\n",
            "False\n",
            "True\n",
            "True\n",
            "True\n"
          ]
        }
      ],
      "source": [
        "a = 2\n",
        "b = 2.0\n",
        "c = a\n",
        "\n",
        "print(a is b)\n",
        "print(a is c)\n",
        "print(b is c)\n",
        "print(a == b)\n",
        "print(a == c)\n",
        "print(b == c)\n",
        "# \"is\" checks if the two variables are interrelated with each other. Meaning, it would only return true if the change of value of a variable would result to the change of the other.\n",
        "# \"==\" checks if the two variables have equal values."
      ]
    },
    {
      "cell_type": "markdown",
      "source": [
        "# CHALLENGES"
      ],
      "metadata": {
        "id": "JxmTAt3Tf55Q"
      }
    },
    {
      "cell_type": "markdown",
      "source": [
        "##CHALLENGE 1"
      ],
      "metadata": {
        "id": "0duCzB4uf90n"
      }
    },
    {
      "cell_type": "markdown",
      "source": [
        "Write a program which repeatedly reads numbers until the user enters \"done\". Once \"done\" is entered, print out the total, count, and average of the numbers. If the user enters anything other than a number, detect their mistake using try and except and print an error message and skip to the next number.\n",
        "\n",
        "    Enter a number: 4\n",
        "    Enter a number: 5\n",
        "    Enter a number: bad data\n",
        "    Invalid input\n",
        "    Enter a number: 7\n",
        "    Enter a number: done\n",
        "    16 3 5.333333333333333\n",
        "    "
      ],
      "metadata": {
        "id": "0DeekE_VAZxp"
      }
    },
    {
      "cell_type": "code",
      "source": [
        "#Answer\n",
        "\n",
        "count = 0\n",
        "sum = 0\n",
        "\n",
        "while(True):\n",
        "  x = input(\"Enter a number: \")\n",
        "  if x.isdigit():\n",
        "    #I let my program assume that the user will input a string and then I inserted this function \"isdigit()\"\" to determine\n",
        "    #if the inputted character in a string contains digits such as 0123456789.\n",
        "    #Once it detects digits from input, it will return true and will proceed to the next line\n",
        "    x = int(x) #this is converting the assumed input as string to integer\n",
        "    count += 1\n",
        "    sum += x\n",
        "    ave = sum / count\n",
        "  else:\n",
        "    if x == 'done':\n",
        "      break\n",
        "    else:\n",
        "      print(\"Invalid Input\")\n",
        "print(f\"{sum} {count} {ave}\")\n"
      ],
      "metadata": {
        "id": "VyWFj0g6Aapx",
        "colab": {
          "base_uri": "https://localhost:8080/"
        },
        "outputId": "a9713935-72d6-4cb0-cde8-dc8f79eb64af"
      },
      "execution_count": null,
      "outputs": [
        {
          "output_type": "stream",
          "name": "stdout",
          "text": [
            "Enter a number: 4\n",
            "Enter a number: 5\n",
            "Enter a number: bad data\n",
            "Invalid Input\n",
            "Enter a number: 7\n",
            "Enter a number: done\n",
            "16 3 5.333333333333333\n"
          ]
        }
      ]
    },
    {
      "cell_type": "markdown",
      "source": [
        "## CHALLENGE 2"
      ],
      "metadata": {
        "id": "LIYrfQAZfqBb"
      }
    },
    {
      "cell_type": "markdown",
      "source": [
        "Write another program that prompts for a list of numbers as above and at the end prints out both the maximum and minimum of the numbers instead of the average."
      ],
      "metadata": {
        "id": "CAQJrowugLCA"
      }
    },
    {
      "cell_type": "code",
      "source": [
        "#Answer\n",
        "\n",
        "count = 0\n",
        "sum = 0\n",
        "num = []\n",
        "lNum = None\n",
        "sNum = None\n",
        "\n",
        "\n",
        "while(True):\n",
        "  x = input(\"Enter a number: \")\n",
        "  if x.isdigit():\n",
        "    x = int(x)\n",
        "    num += [x]\n",
        "    count += 1\n",
        "  else:\n",
        "    if x == 'done':\n",
        "      break\n",
        "    else:\n",
        "      print(\"Invalid Input\")\n",
        "\n",
        "if(count > 0):\n",
        "  for i in num:\n",
        "    if sNum is None:\n",
        "      sNum = i\n",
        "    elif i < sNum:\n",
        "      sNum = i\n",
        "    if lNum is None:\n",
        "      lNum = i\n",
        "    elif i > lNum:\n",
        "      lNum = i\n",
        "  print(f\"Count: {count} Minimum: {sNum} Maximum: {lNum}\")\n"
      ],
      "metadata": {
        "colab": {
          "base_uri": "https://localhost:8080/"
        },
        "id": "-o3uc_oOgNxn",
        "outputId": "4e0cb812-057c-4e96-f850-331958af5f31"
      },
      "execution_count": null,
      "outputs": [
        {
          "output_type": "stream",
          "name": "stdout",
          "text": [
            "Enter a number: 34\n",
            "Enter a number: 6\n",
            "Enter a number: done\n",
            "Count: 2 Minimum: 6 Maximum: 34\n"
          ]
        }
      ]
    },
    {
      "cell_type": "code",
      "source": [],
      "metadata": {
        "id": "wNiE1Egk1WS6"
      },
      "execution_count": null,
      "outputs": []
    }
  ]
}